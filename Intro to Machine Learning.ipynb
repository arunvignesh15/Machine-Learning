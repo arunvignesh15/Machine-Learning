{
 "cells": [
  {
   "cell_type": "markdown",
   "metadata": {},
   "source": [
    "# Introduction to Machine Learning\n"
   ]
  },
  {
   "cell_type": "markdown",
   "metadata": {},
   "source": [
    "Machine Learning mainly focus on the development of computer program that can teach themselves to grow and change when exposed to new data.\n",
    "\n",
    "\n"
   ]
  },
  {
   "cell_type": "markdown",
   "metadata": {},
   "source": [
    "# Applications of Machine Learning\n"
   ]
  },
  {
   "cell_type": "markdown",
   "metadata": {},
   "source": [
    "- Facebook Ads: (How the Ads are shown to the relevant people?)\n",
    "\n",
    "Ad targeting from Facebook is so accurate, people have begun to believe that Facebook is somehow listening to them through their phone. But Facebook has said time and time again it does not use microphones on people’s phones to listen to conversations.\n",
    " \n",
    "- Facebook Facial Recognition: Facebook uses Advance Machine Learning algorithms to detect faces of your friends to suggest tags.\n",
    "\n",
    "- Machine Learning in Gaming: The earliest instance of Machine Learning in games was in 1952, when a lone graduate student in the UK created a rules-based AI that could play a perfect game of tic-tac-toe. Today, teams of researchers are working on—or have already succeeded in—creating games that can defeat humans in increasingly complex scenarios.\n",
    "\n",
    "- Amazon Echo: Amazon Echo is Smart home speaker that works with Wi-Fi and Bluetooth connectivity, You can Ask the play music, Weather forecast updates, add to the item in a shopping list, hear the news, and much more.\n",
    "\n",
    "- Medical Sciences: Machine Learning has a huge potential and a whole fleet of applications in Medical sciences such as: \n",
    "    1. Disease Identification/Diagnosis \n",
    "    2. Personalized Treatment/Behavioural Modification \n",
    "    3. Drug Discovery/Manufacturing \n",
    "    4. Clinical Trial Research \n",
    "    5. Radiology and Radiotherapy \n",
    "    6. Smart Electronic Health Records \n",
    "    7. Epidemic Outbreak Prediction\n"
   ]
  },
  {
   "cell_type": "markdown",
   "metadata": {},
   "source": [
    "# Machine Learning Techniques"
   ]
  },
  {
   "cell_type": "markdown",
   "metadata": {},
   "source": [
    "### Regression:\n",
    "    \n",
    " 1. Simple Linear Regression\n",
    " 2. Multiple Linear Regression\n",
    " 3. Polynomial Regression\n",
    " 4. Support Vector for Regression (SVR)\n",
    " 5. Decision Tree Classification\n",
    " 6. Random Forest Classification\n",
    "\n",
    "### Classification:\n",
    "\n",
    " 1. Logistict Regression\n",
    " 2. K-Nearest Neighbour\n",
    " 3. Support Vector Machine\n",
    " 4. Kernal SVM\n",
    " 5. Navie Bayes\n",
    " 6. Decision Tree Classification\n",
    " 7. Randon Forest Classification\n",
    " 8. Evaluting Classification Model Performance\n",
    " \n",
    "### Clustering:\n",
    "\n",
    " 1. K-Mean Clustering\n",
    " 2. Hierachial Clustering\n",
    " \n",
    "### Assocation Rule Learning:\n",
    "\n",
    " 1. Apriori\n",
    " 2. Eclat\n",
    " \n",
    "### Reinforcement Learning:\n",
    "\n",
    " 1. Upper Confidence Bound(UCB)\n",
    " 2. Thompson Sampling\n",
    " \n",
    "### Natural Language Processing\n",
    "\n",
    "### Deep Learning:\n",
    "\n",
    " 1. ANN\n",
    " 2. CNN\n",
    " 3. RNN\n",
    " 4. LSTM\n",
    "\n",
    "### Principal Component Analysis\n",
    "\n",
    "### Linear Discriminant Analysis\n",
    "\n",
    "### Kernal PCA\n",
    "\n",
    "### Model Selection & Boosting:\n",
    "\n",
    " 1. Model Section\n",
    " 2. XGBOOST\n",
    " "
   ]
  },
  {
   "cell_type": "code",
   "execution_count": null,
   "metadata": {},
   "outputs": [],
   "source": []
  }
 ],
 "metadata": {
  "kernelspec": {
   "display_name": "Python 3",
   "language": "python",
   "name": "python3"
  },
  "language_info": {
   "codemirror_mode": {
    "name": "ipython",
    "version": 3
   },
   "file_extension": ".py",
   "mimetype": "text/x-python",
   "name": "python",
   "nbconvert_exporter": "python",
   "pygments_lexer": "ipython3",
   "version": "3.7.3"
  }
 },
 "nbformat": 4,
 "nbformat_minor": 2
}
